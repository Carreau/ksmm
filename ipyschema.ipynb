{
 "cells": [
  {
   "cell_type": "markdown",
   "id": "thrown-brazil",
   "metadata": {},
   "source": [
    "# ipykernel to json schema\n",
    "This notebook takes (currently) hardcoded data and then genenrates Json Schema for an ipykernel"
   ]
  },
  {
   "cell_type": "code",
   "execution_count": 24,
   "id": "earned-attempt",
   "metadata": {},
   "outputs": [],
   "source": [
    "import genson\n",
    "import requests\n",
    "import json"
   ]
  },
  {
   "cell_type": "code",
   "execution_count": 26,
   "id": "attempted-young",
   "metadata": {},
   "outputs": [],
   "source": [
    "data = json.loads('{\"rtc\":{\"argv\":[\"/Users/anirrudhkrishnan/miniconda3/envs/jupyter-rtc/bin/python3\", \"-m\", \"ipykernel_launcher\", \"-f\", \"{connection_file}\"], \"env\": {}, \"display_name\": \"rtc\", \"language\": \"python\", \"interrupt_mode\": \"signal\", \"metadata\": {}}, \"ksmm\": {\"argv\": [\"/Users/anirrudhkrishnan/miniconda3/envs/ksmm/bin/python3\", \"-m\", \"ipykernel_launcher\", \"-f\", \"{connection_file}\"], \"env\": {}, \"display_name\": \"ksmm\", \"language\": \"python\", \"interrupt_mode\": \"signal\", \"metadata\": {}}, \"datascience\": {\"argv\": [\"/Users/anirrudhkrishnan/miniconda3/envs/ds/bin/python3\", \"-m\", \"ipykernel_launcher\", \"-f\", \"{connection_file}\"], \"env\": {}, \"display_name\": \"Data Science\", \"language\": \"python\", \"interrupt_mode\": \"signal\", \"metadata\": {}}, \"qhub_server\": {\"argv\": [\"/Users/anirrudhkrishnan/miniconda3/envs/fast_api/bin/python3\", \"-m\", \"ipykernel_launcher\", \"-f\", \"{connection_file}\"], \"env\": {}, \"display_name\": \"qhub_server\", \"language\": \"python\", \"interrupt_mode\": \"signal\", \"metadata\": {}}, \"pyfuncim\": {\"argv\": [\"/Users/anirrudhkrishnan/miniconda3/envs/pythonic_functional_imports/bin/python3\", \"-m\", \"ipykernel_launcher\", \"-f\", \"{connection_file}\"], \"env\": {}, \"display_name\": \"pyfuncim\", \"language\": \"python\", \"interrupt_mode\": \"signal\", \"metadata\": {}}}')"
   ]
  },
  {
   "cell_type": "code",
   "execution_count": 32,
   "id": "abandoned-style",
   "metadata": {},
   "outputs": [
    {
     "data": {
      "text/plain": [
       "'{\"$schema\": \"http://json-schema.org/schema#\", \"type\": \"object\", \"properties\": {\"argv\": {\"type\": \"array\", \"items\": {\"type\": \"string\"}}, \"env\": {\"type\": \"object\"}, \"display_name\": {\"type\": \"string\"}, \"language\": {\"type\": \"string\"}, \"interrupt_mode\": {\"type\": \"string\"}, \"metadata\": {\"type\": \"object\"}}, \"required\": [\"argv\", \"display_name\", \"env\", \"interrupt_mode\", \"language\", \"metadata\"]}'"
      ]
     },
     "execution_count": 32,
     "metadata": {},
     "output_type": "execute_result"
    }
   ],
   "source": [
    "builder = genson.SchemaBuilder()\n",
    "builder.add_object(data['ksmm'])\n",
    "json.dumps(builder.to_schema())"
   ]
  },
  {
   "cell_type": "code",
   "execution_count": 33,
   "id": "ruled-yacht",
   "metadata": {},
   "outputs": [
    {
     "data": {
      "text/plain": [
       "{'$schema': 'http://json-schema.org/schema#',\n",
       " 'type': 'object',\n",
       " 'properties': {'argv': {'type': 'array', 'items': {'type': 'string'}},\n",
       "  'env': {'type': 'object'},\n",
       "  'display_name': {'type': 'string'},\n",
       "  'language': {'type': 'string'},\n",
       "  'interrupt_mode': {'type': 'string'},\n",
       "  'metadata': {'type': 'object'}},\n",
       " 'required': ['argv',\n",
       "  'display_name',\n",
       "  'env',\n",
       "  'interrupt_mode',\n",
       "  'language',\n",
       "  'metadata']}"
      ]
     },
     "execution_count": 33,
     "metadata": {},
     "output_type": "execute_result"
    }
   ],
   "source": [
    "builder.to_schema()"
   ]
  },
  {
   "cell_type": "code",
   "execution_count": null,
   "id": "included-mustang",
   "metadata": {},
   "outputs": [],
   "source": []
  }
 ],
 "metadata": {
  "kernelspec": {
   "display_name": "ksmm",
   "language": "python",
   "name": "ksmm"
  },
  "language_info": {
   "codemirror_mode": {
    "name": "ipython",
    "version": 3
   },
   "file_extension": ".py",
   "mimetype": "text/x-python",
   "name": "python",
   "nbconvert_exporter": "python",
   "pygments_lexer": "ipython3",
   "version": "3.9.2"
  }
 },
 "nbformat": 4,
 "nbformat_minor": 5
}
